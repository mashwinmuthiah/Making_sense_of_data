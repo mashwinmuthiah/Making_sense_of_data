{
 "cells": [
  {
   "cell_type": "code",
   "execution_count": 4,
   "metadata": {},
   "outputs": [],
   "source": [
    "import tweepy\n",
    "from textblob import TextBlob"
   ]
  },
  {
   "cell_type": "code",
   "execution_count": 5,
   "metadata": {},
   "outputs": [],
   "source": [
    "api_key= 'wMi8r74PpoFhX1m3Cqu9irP0K'\n",
    "api_secret = 'eWpn65dVlF5WdoeyN0622g3867ayD55LPdKjxjQf3DxfFYlwBG'\n",
    "access_token = '3150117091-3FZ07beDINghbMaD2lndLPT05WzTRiwR3anjyjB'\n",
    "access_secret = 'xf8WtrqnePH8MgRoSLBY608EtVJEQWYsqEWApjkzeBkz3'"
   ]
  },
  {
   "cell_type": "code",
   "execution_count": 6,
   "metadata": {},
   "outputs": [],
   "source": [
    "auth = tweepy.OAuthHandler(api_key,api_secret)\n",
    "auth.set_access_token(access_token,access_secret)"
   ]
  },
  {
   "cell_type": "code",
   "execution_count": 7,
   "metadata": {},
   "outputs": [],
   "source": [
    "api = tweepy.API(auth)"
   ]
  },
  {
   "cell_type": "code",
   "execution_count": 12,
   "metadata": {},
   "outputs": [],
   "source": [
    "public_tweets = api.search('trump')"
   ]
  },
  {
   "cell_type": "code",
   "execution_count": 14,
   "metadata": {},
   "outputs": [
    {
     "name": "stdout",
     "output_type": "stream",
     "text": [
      "RT @RealCandaceO: Stacey Abram’s State of the Union response went about as well as her bid for Governor did last year.\n",
      "\n",
      "She failed, but the…\n",
      "Sentiment(polarity=-0.25, subjectivity=0.18333333333333332)\n",
      "RT @DanRather: News that Trump golf courses employed undocumented immigrants, and knew about it, reinforces a narrative about the President…\n",
      "Sentiment(polarity=0.0, subjectivity=0.0)\n",
      "RT @EricTrump: Team Trump #SOTU 🇺🇸🇺🇸🇺🇸 https://t.co/gUHKxkghM1\n",
      "Sentiment(polarity=0.0, subjectivity=0.0)\n",
      "@PalmerReport Trump continues to LIE and cover up the murder of Khashoggi.........\n",
      "Sentiment(polarity=0.0, subjectivity=0.0)\n",
      "RT @CREWcrew: No, it’s not normal for a US President to give nominations to senior government positions to people who are paying his busine…\n",
      "Sentiment(polarity=-0.075, subjectivity=0.6499999999999999)\n",
      "RT @RexHuppke: Pause a moment and consider the way Jeff Bezos was being threatened. Now envision what Trump’s pal at the National Enquirer…\n",
      "Sentiment(polarity=0.0, subjectivity=0.0)\n",
      "RT @williesband: If the Saudis had butchered Trump and dissolved his worthless body parts in acid, would we abandon our relationship with t…\n",
      "Sentiment(polarity=-0.8, subjectivity=0.9)\n",
      "RT @JohnWDean: I find it difficult to believe that Pecker did not go after Bezos to gain favor with Trump, either because Trump wanted it o…\n",
      "Sentiment(polarity=-0.5, subjectivity=1.0)\n",
      "@HuskyLeaf Like it! We would like to invite you to visit our cartoons.  https://t.co/wIhP0HsH8h\n",
      "Sentiment(polarity=0.0, subjectivity=0.0)\n",
      "RT @BettyBowers: Sometimes, women have to treat obnoxious men like the bratty little boys they are.\n",
      "\n",
      "We’ve seen Nancy Pelosi do it to Trump…\n",
      "Sentiment(polarity=-0.1875, subjectivity=0.5)\n",
      "RT @ChrisCuomo: Trump was declared \"in very good health\" after his physical...here's what me and @DonLemon think... https://t.co/43Z4pVUGbX\n",
      "Sentiment(polarity=0.9099999999999999, subjectivity=0.7800000000000001)\n",
      "RT @RepJayapal: Trump separated CHILDREN from their parents--and we still don't know how many 1000s of children were involved. Acting AG Ma…\n",
      "Sentiment(polarity=0.25, subjectivity=0.25)\n",
      "RT @RedNationRising: I'm not interested in Trump's tax returns.\n",
      "\n",
      "Here’s a better idea.\n",
      "\n",
      "Start a full investigation into every multimilliona…\n",
      "Sentiment(polarity=0.24166666666666667, subjectivity=0.5166666666666667)\n",
      "RT @maggieNYT: Spotted at the Trump Hotel earlier tonight - Matt Whitaker, post-testimony.\n",
      "Sentiment(polarity=0.0, subjectivity=0.5)\n",
      "RT @bradheath: NEW: President Trump has named more members of his private clubs to top posts in his administration. Presidents traditionall…\n",
      "Sentiment(polarity=0.28409090909090906, subjectivity=0.45738636363636365)\n"
     ]
    }
   ],
   "source": [
    "for tweets in public_tweets:\n",
    "    print(tweets.text)\n",
    "    analysis = TextBlob(tweets.text)\n",
    "    print(analysis.sentiment)"
   ]
  },
  {
   "cell_type": "code",
   "execution_count": null,
   "metadata": {},
   "outputs": [],
   "source": []
  }
 ],
 "metadata": {
  "kernelspec": {
   "display_name": "Python 3",
   "language": "python",
   "name": "python3"
  }
 },
 "nbformat": 4,
 "nbformat_minor": 2
}
